{
 "cells": [
  {
   "cell_type": "markdown",
   "metadata": {},
   "source": [
    "athena2pyspark\n",
    "==\n",
    "\n",
    "“La documentación es como el sexo; cuando es bueno, es muy, muy bueno, y cuando es malo, es mejor que nada” \n",
    "-- Dick Brandon\n",
    "\n",
    "Usted está frente athena2pyspark una api creada por exalítica para la manipulación de consultas en sql desde s3 basado en athena. El objetivo de esta librería es no tener un futuro sin servidores y sin cluster EMR. Cuide esta librería, apoye reportando bugs y disfrútela.\n",
    "\n",
    "Este código está siendo probado constantemente en distintos ambientes, de forma local y en jobs de glue ..."
   ]
  },
  {
   "cell_type": "markdown",
   "metadata": {},
   "source": [
    "Instalación\n",
    "==\n",
    "Si usted quiere probar la librería localmente no tiene más que instalarla\n",
    "\n",
    "pip install git+https://ljofre-exalitica@bitbucket.org/exalitica-team/athena2pyspark.git\n",
    "\n",
    "Si quiere usarla en un job de glue, debe apuntar a s3://library.exalitica.com/athena2pyspark.zip "
   ]
  },
  {
   "cell_type": "code",
   "execution_count": 1,
   "metadata": {},
   "outputs": [],
   "source": [
    "import athena2pyspark as ath \n",
    "from athena2pyspark.config import getLocalSparkSession\n",
    "\n",
    "spark = getLocalSparkSession() # se demora un poco porque esta creado el SparkSession ..."
   ]
  },
  {
   "cell_type": "code",
   "execution_count": 2,
   "metadata": {},
   "outputs": [
    {
     "data": {
      "text/html": [
       "\n",
       "            <div>\n",
       "                <p><b>SparkSession - in-memory</b></p>\n",
       "                \n",
       "        <div>\n",
       "            <p><b>SparkContext</b></p>\n",
       "\n",
       "            <p><a href=\"http://192.168.1.39:4040\">Spark UI</a></p>\n",
       "\n",
       "            <dl>\n",
       "              <dt>Version</dt>\n",
       "                <dd><code>v2.2.0</code></dd>\n",
       "              <dt>Master</dt>\n",
       "                <dd><code>local</code></dd>\n",
       "              <dt>AppName</dt>\n",
       "                <dd><code>pyspark-shell</code></dd>\n",
       "            </dl>\n",
       "        </div>\n",
       "        \n",
       "            </div>\n",
       "        "
      ],
      "text/plain": [
       "<pyspark.sql.session.SparkSession at 0x1114bc128>"
      ]
     },
     "execution_count": 2,
     "metadata": {},
     "output_type": "execute_result"
    }
   ],
   "source": [
    "spark"
   ]
  },
  {
   "cell_type": "markdown",
   "metadata": {},
   "source": [
    "por ejemplo, tenemos la función que retorna la consulta de producto nuevo"
   ]
  },
  {
   "cell_type": "markdown",
   "metadata": {},
   "source": [
    "Hacer una query y que te retorne un dataframe\n",
    "==\n",
    "\n",
    "Podemos usar los recursos de athena para obtener querys basado en sql, esto nos permite hacer querys gigantes de forma server-less"
   ]
  },
  {
   "cell_type": "code",
   "execution_count": 3,
   "metadata": {},
   "outputs": [
    {
     "name": "stdout",
     "output_type": "stream",
     "text": [
      "Execution ID: b5237524-0fe0-48c7-9d6c-1efd435da76b\n"
     ]
    }
   ],
   "source": [
    "s3_output = \"s3://leonardo.exalitica.com/glue_example/query_examples_select_all/\"\n",
    "path_dataframe = ath.run_query(query = \"select * from baul_2 limit 10\", \n",
    "                               database = \"ljofre\", \n",
    "                               s3_output = s3_output,\n",
    "                               spark = spark)"
   ]
  },
  {
   "cell_type": "code",
   "execution_count": 11,
   "metadata": {},
   "outputs": [
    {
     "name": "stdout",
     "output_type": "stream",
     "text": [
      "+---------+-----+-----+------+-------+---------+----------+----------+-----+------+-------+----+----+-----------------+-------+\n",
      "| party_id| corr|cv_us|cv_u4s|cv_u12s|     m_us|     m_u4s|    m_u12s|cp_us|cp_u4s|cp_u12s| rec|tu4s|            tu12s|  n_key|\n",
      "+---------+-----+-----+------+-------+---------+----------+----------+-----+------+-------+----+----+-----------------+-------+\n",
      "|159752880| 7772|    2|     2|      7|1847.0588| 1847.0588| 8265.5461|  2.0|   2.0|    9.0| 8.0| 4.0|8.166666666666666|2016_10|\n",
      "|100151227|27810|    0|     0|      1|      0.0|       0.0| 2586.5545|  0.0|   0.0|   0.44|46.0|30.0|             90.0|2016_10|\n",
      "|159948119| 2728|    0|     0|      2|      0.0|       0.0| 3756.4225|  0.0|   0.0|    2.0|46.0|30.0|             41.0|2016_10|\n",
      "|100335346| 2774|    0|     0|      1|      0.0|       0.0|  693.2773|  0.0|   0.0|    0.5|49.0|30.0|             90.0|2016_10|\n",
      "|160134740| 5845|    1|     1|      1|2183.1932| 2183.1932| 2183.1932|  2.0|   2.0|    2.0|13.0|30.0|             90.0|2016_10|\n",
      "|100536242| 8970|    0|     0|      1|      0.0|       0.0| 1075.6303|  0.0|   0.0|    1.0|90.0|30.0|             90.0|2016_10|\n",
      "|160321473| 2261|    0|     1|      1|      0.0| 2151.9141| 2151.9141|  0.0|   1.0|    1.0|28.0|30.0|             90.0|2016_10|\n",
      "|100749959|31272|    0|     1|      1|      0.0|24893.2559|24893.2559|  0.0|   1.0|    1.0|18.0|30.0|             90.0|2016_10|\n",
      "|160509529|19841|    1|     1|      1|1831.0924| 1831.0924| 1831.0924|  1.0|   1.0|    1.0| 8.0|30.0|             90.0|2016_10|\n",
      "|100934158| 3308|    0|     1|      1|      0.0| 2259.6639| 2259.6639|  0.0|   1.0|    1.0|26.0|30.0|             90.0|2016_10|\n",
      "+---------+-----+-----+------+-------+---------+----------+----------+-----+------+-------+----+----+-----------------+-------+\n",
      "\n"
     ]
    }
   ],
   "source": [
    "df = ath.get_dataframe(path_query=path_dataframe, spark=spark)\n",
    "df.show()"
   ]
  },
  {
   "cell_type": "markdown",
   "metadata": {},
   "source": [
    "Dinámica producto nuevo\n",
    "==\n",
    "\n",
    "Podemos obtener el dataframe de dinámica de producto nuevo"
   ]
  },
  {
   "cell_type": "code",
   "execution_count": 6,
   "metadata": {},
   "outputs": [],
   "source": [
    "from athena2pyspark.athena_sql.dinamicas import producto_nuevo \n",
    "# “El código nunca miente, los comentarios sí” -- Ron Jeffries\n",
    "\n",
    "#todo: agregar codigo_siebel\n",
    "producto_nuevo_query = producto_nuevo(subclase=110209, marca='2717', lift=8) # creamos la query"
   ]
  },
  {
   "cell_type": "code",
   "execution_count": 8,
   "metadata": {},
   "outputs": [
    {
     "name": "stdout",
     "output_type": "stream",
     "text": [
      "Execution ID: e556104a-ff37-4ba4-bd2f-2a40cbe9e637\n"
     ]
    }
   ],
   "source": [
    "s3_output = \"s3://leonardo.exalitica.com/boto3/query_examples_dinamica_producto_nuevo/\"\n",
    "\n",
    "path_producto_nuevo = ath.run_query(query = producto_nuevo_query, \n",
    "                                    database = \"prod_jumbo\", \n",
    "                                    s3_output = s3_output, \n",
    "                                    spark = spark)"
   ]
  },
  {
   "cell_type": "code",
   "execution_count": 12,
   "metadata": {},
   "outputs": [
    {
     "data": {
      "text/plain": [
       "'s3://leonardo.exalitica.com/boto3/query_examples_dinamica_producto_nuevo/9f40d329-872c-4fb6-af62-435991668f66.csv'"
      ]
     },
     "execution_count": 12,
     "metadata": {},
     "output_type": "execute_result"
    }
   ],
   "source": [
    "path_producto_nuevo"
   ]
  },
  {
   "cell_type": "code",
   "execution_count": 10,
   "metadata": {},
   "outputs": [
    {
     "name": "stdout",
     "output_type": "stream",
     "text": [
      "+---------+--------+---------------+-------------+------------+----------------+-------+--------------------+-----------+-----+\n",
      "| party_id|promo_id|comm_channel_cd|codigo_siebel|codigo_motor|communication_id|page_id|   datos_de_contacto|correlativo|grupo|\n",
      "+---------+--------+---------------+-------------+------------+----------------+-------+--------------------+-----------+-----+\n",
      "|163543884|     300|              1|      PopCorn|         300|               1|      1|CLAUDIAGAZMURI@ED.CL|      61009|    0|\n",
      "|112191543|     300|              1|      PopCorn|         300|               1|      1|leonel.gonzalez@t...|      61009|    0|\n",
      "|140088569|     300|              1|      PopCorn|         300|               1|      1|   canuchj@gmail.com|      61009|    0|\n",
      "|173584284|     300|              1|      PopCorn|         300|               1|      1|   HSALAZR@GMAIL.COM|      61009|    0|\n",
      "|176209065|     300|              1|      PopCorn|         300|               1|      1|PACHICLARKE@HOTMA...|      61009|    0|\n",
      "|111595777|     300|              1|      PopCorn|         300|               1|      1|MTERESAGANA@GMAIL...|      61009|    0|\n",
      "|105465842|     300|              1|      PopCorn|         300|               1|      1|CPEREZV78@HOTMAIL...|      61009|    1|\n",
      "|166555466|     300|              1|      PopCorn|         300|               1|      1|CAROLINAJAZMIN1@H...|      61009|    0|\n",
      "|163684114|     300|              1|      PopCorn|         300|               1|      1|RNIETOFERNANDEZ@G...|      61009|    0|\n",
      "|100926551|     300|              1|      PopCorn|         300|               1|      1|PILAR.CHAIGNEAU@G...|      61009|    0|\n",
      "+---------+--------+---------------+-------------+------------+----------------+-------+--------------------+-----------+-----+\n",
      "\n"
     ]
    }
   ],
   "source": [
    "df_producto_nuevo = ath.get_dataframe(path_query=path_producto_nuevo, spark = spark)\n",
    "df_producto_nuevo.limit(10).show()"
   ]
  },
  {
   "cell_type": "markdown",
   "metadata": {},
   "source": [
    "Generar el \"create table\" a partir del dataframe ya creado\n",
    "==\n",
    "\n",
    "Es util registrar este dataframe dentro de un catálogo para poder seguir haciendo consultas dentro de athena"
   ]
  },
  {
   "cell_type": "code",
   "execution_count": 12,
   "metadata": {},
   "outputs": [],
   "source": [
    "s3_input = path_producto_nuevo\n",
    "create_database, create_table = ath.get_ddl(df=df_producto_nuevo,\n",
    "                                            database=\"ljofre\",\n",
    "                                            table=\"nueva_tabla_de_ejemplo\",\n",
    "                                            s3_input=s3_output)"
   ]
  },
  {
   "cell_type": "code",
   "execution_count": 15,
   "metadata": {},
   "outputs": [
    {
     "name": "stdout",
     "output_type": "stream",
     "text": [
      "CREATE DATABASE IF NOT EXISTS ljofre;\n"
     ]
    }
   ],
   "source": [
    "print(create_database)"
   ]
  },
  {
   "cell_type": "code",
   "execution_count": null,
   "metadata": {},
   "outputs": [],
   "source": [
    "print(create_table)"
   ]
  },
  {
   "cell_type": "markdown",
   "metadata": {},
   "source": [
    "Ejecutar create table y dejar registrada la tabla en Athena\n",
    "==\n",
    "\n",
    "“Cuando trabajo en un problema nunca pienso sobre la elegancia, sólo sobre cómo resolverlo. Pero cuando he acabado, si la solución no es elegante, sé que es incorrecta” \n",
    "-- R. Buckminster Fuller"
   ]
  },
  {
   "cell_type": "code",
   "execution_count": null,
   "metadata": {},
   "outputs": [],
   "source": [
    "from athena2pyspark.config import aws_access_key_id, aws_secret_access_key\n",
    "\n",
    "import boto3\n",
    "\n",
    "client = boto3.client('athena', region_name='us-east-1', \n",
    "                      aws_access_key_id=aws_access_key_id,\n",
    "                      aws_secret_access_key=aws_secret_access_key)\n",
    "\n",
    "response = client.start_query_execution(\n",
    "    QueryString=create_table,\n",
    "    QueryExecutionContext={\n",
    "        'Database': \"ljofre\"\n",
    "        },\n",
    "    ResultConfiguration={\n",
    "            'OutputLocation': s3_output,\n",
    "            }\n",
    "    )\n",
    "print('Execution ID: ' + response['QueryExecutionId'])"
   ]
  },
  {
   "cell_type": "markdown",
   "metadata": {},
   "source": [
    "Hacer un listado a partir de la prepriorizacion\n",
    "=="
   ]
  },
  {
   "cell_type": "code",
   "execution_count": null,
   "metadata": {},
   "outputs": [],
   "source": [
    "print(create_table)"
   ]
  },
  {
   "cell_type": "code",
   "execution_count": null,
   "metadata": {},
   "outputs": [],
   "source": []
  }
 ],
 "metadata": {
  "kernelspec": {
   "display_name": "Python 3",
   "language": "python",
   "name": "python3"
  },
  "language_info": {
   "codemirror_mode": {
    "name": "ipython",
    "version": 3
   },
   "file_extension": ".py",
   "mimetype": "text/x-python",
   "name": "python",
   "nbconvert_exporter": "python",
   "pygments_lexer": "ipython3",
   "version": "3.6.3"
  }
 },
 "nbformat": 4,
 "nbformat_minor": 2
}
