{
 "cells": [
  {
   "cell_type": "markdown",
   "metadata": {},
   "source": [
    "athena2pyspark\n",
    "==\n",
    "\n",
    "“La documentación es como el sexo; cuando es bueno, es muy, muy bueno, y cuando es malo, es mejor que nada” \n",
    "-- Dick Brandon\n",
    "\n",
    "Usted está frente athena2pyspark una api creada por exalítica para la manipulación de consultas en sql desde s3 basado en athena. El objetivo de esta librería es no tener futuro sin servidores y sin cluster EMR. Cuide esta librería, apoye reportando bugs, definiendo casos de usos, requerimientos en los issues y disfrútela.\n",
    "\n",
    "Este código está siendo probado constantemente en distintos ambientes, de forma local, en jobs de glue en databricks y endpoints de prueba."
   ]
  },
  {
   "cell_type": "markdown",
   "metadata": {},
   "source": [
    "Instalación\n",
    "==\n",
    "\n",
    "Si quiere usarla en un job de glue, debe apuntar a s3://library.exalitica.com/athena2pyspark.zip"
   ]
  },
  {
   "cell_type": "code",
   "execution_count": 2,
   "metadata": {},
   "outputs": [],
   "source": [
    "import athena2pyspark as ath \n",
    "from athena2pyspark.config import getLocalSparkSession\n",
    "\n",
    "spark = getLocalSparkSession() # se demora un poco porque esta creado el SparkSession ..."
   ]
  },
  {
   "cell_type": "markdown",
   "metadata": {},
   "source": [
    "por ejemplo, tenemos la función que retorna la consulta de producto nuevo"
   ]
  },
  {
   "cell_type": "markdown",
   "metadata": {},
   "source": [
    "Hacer una query y que te retorne un dataframe\n",
    "==\n",
    "\n",
    "Podemos usar los recursos de athena para obtener querys basado en sql, esto nos permite hacer querys gigantes de forma server-less"
   ]
  },
  {
   "cell_type": "code",
   "execution_count": 3,
   "metadata": {},
   "outputs": [
    {
     "name": "stdout",
     "output_type": "stream",
     "text": [
      "Execution ID: 61fb6cdd-7fbb-4bc3-8ec2-3c056435281e\n"
     ]
    }
   ],
   "source": [
    "s3_output = \"s3://leonardo.exalitica.com/glue_example/query_examples_select_all/\"\n",
    "path_dataframe = ath.run_query(query = \"select * from baul_2 limit 10\", \n",
    "                               database = \"ljofre\", \n",
    "                               s3_output = s3_output,\n",
    "                               spark = spark)"
   ]
  },
  {
   "cell_type": "code",
   "execution_count": 4,
   "metadata": {},
   "outputs": [
    {
     "name": "stdout",
     "output_type": "stream",
     "text": [
      "+---------+-----+-----+------+-------+----+---------+-----------------+-----+------+-------+----+----+-----+-------+\n",
      "| party_id| corr|cv_us|cv_u4s|cv_u12s|m_us|    m_u4s|           m_u12s|cp_us|cp_u4s|cp_u12s| rec|tu4s|tu12s|  n_key|\n",
      "+---------+-----+-----+------+-------+----+---------+-----------------+-----+------+-------+----+----+-----+-------+\n",
      "|100138097|20579|    0|     0|      1|   0|      0.0|        1234.4538|    0|   0.0|    1.0|91.0|30.0| 90.0|2016_10|\n",
      "|100096250|21516|    0|     1|      1|   0|1258.8236|        1258.8236|    0|   2.0|    2.0|19.0|30.0| 90.0|2016_10|\n",
      "|100318587| 1828|    0|     0|      4|   0|      0.0|6231.932400000001|    0|   0.0|   24.0|54.0|30.0| 11.0|2016_10|\n",
      "|100270997| 8926|    0|     1|      1|   0|1170.5882|        1170.5882|    0|   1.0|    1.0|23.0|30.0| 90.0|2016_10|\n",
      "|100521809| 9090|    0|     0|      1|   0|      0.0|        2099.1597|    0|   0.0|    2.0|65.0|30.0| 90.0|2016_10|\n",
      "|100473725| 7820|    0|     0|      1|   0|      0.0|          587.395|    0|   0.0|    1.0|51.0|30.0| 90.0|2016_10|\n",
      "|100720101| 2613|    0|     1|      1|   0|9977.3109|        9977.3109|    0|  0.72|   0.72|16.0|30.0| 90.0|2016_10|\n",
      "|100655707|28515|    0|     2|      2|   0| 779.8319|         779.8319|    0|   2.0|    2.0|30.0| 4.0|  4.0|2016_10|\n",
      "|100914163|  216|    0|     0|      1|   0|      0.0|       13103.3612|    0|   0.0|  1.525|36.0|30.0| 90.0|2016_10|\n",
      "|100838668|23346|    0|     0|      1|   0|      0.0|        1032.7731|    0|   0.0|    1.0|86.0|30.0| 90.0|2016_10|\n",
      "+---------+-----+-----+------+-------+----+---------+-----------------+-----+------+-------+----+----+-----+-------+\n",
      "\n"
     ]
    }
   ],
   "source": [
    "df = ath.get_dataframe(path_query=path_dataframe, spark=spark)\n",
    "df.show()"
   ]
  },
  {
   "cell_type": "markdown",
   "metadata": {},
   "source": [
    "Dinámica producto nuevo\n",
    "==\n",
    "\n",
    "Podemos obtener el dataframe de dinámica de producto nuevo"
   ]
  },
  {
   "cell_type": "code",
   "execution_count": 5,
   "metadata": {},
   "outputs": [],
   "source": [
    "from athena2pyspark.athena_sql.dinamicas import producto_nuevo \n",
    "# “El código nunca miente, los comentarios sí” -- Ron Jeffries\n",
    "\n",
    "#todo: agregar codigo_siebel\n",
    "producto_nuevo_query = producto_nuevo(subclase=110209, marca='2717', lift=8) # creamos la query"
   ]
  },
  {
   "cell_type": "code",
   "execution_count": 7,
   "metadata": {},
   "outputs": [
    {
     "name": "stdout",
     "output_type": "stream",
     "text": [
      "Execution ID: 74d03414-c9ea-49a3-93c9-a2623accea8e\n"
     ]
    },
    {
     "ename": "AssertionError",
     "evalue": "",
     "output_type": "error",
     "traceback": [
      "\u001b[0;31m---------------------------------------------------------------------------\u001b[0m",
      "\u001b[0;31mAssertionError\u001b[0m                            Traceback (most recent call last)",
      "\u001b[0;32m<ipython-input-7-6c2b37ea03df>\u001b[0m in \u001b[0;36m<module>\u001b[0;34m()\u001b[0m\n\u001b[1;32m      4\u001b[0m                                     \u001b[0mdatabase\u001b[0m \u001b[0;34m=\u001b[0m \u001b[0;34m\"ljofre\"\u001b[0m\u001b[0;34m,\u001b[0m\u001b[0;34m\u001b[0m\u001b[0m\n\u001b[1;32m      5\u001b[0m                                     \u001b[0ms3_output\u001b[0m \u001b[0;34m=\u001b[0m \u001b[0ms3_output\u001b[0m\u001b[0;34m,\u001b[0m\u001b[0;34m\u001b[0m\u001b[0m\n\u001b[0;32m----> 6\u001b[0;31m                                     spark = spark)\n\u001b[0m\u001b[1;32m      7\u001b[0m \u001b[0;34m\u001b[0m\u001b[0m\n\u001b[1;32m      8\u001b[0m \u001b[0mdf_producto_nuevo\u001b[0m \u001b[0;34m=\u001b[0m \u001b[0math\u001b[0m\u001b[0;34m.\u001b[0m\u001b[0mget_dataframe\u001b[0m\u001b[0;34m(\u001b[0m\u001b[0mpath_query\u001b[0m\u001b[0;34m=\u001b[0m\u001b[0mpath_producto_nuevo\u001b[0m\u001b[0;34m,\u001b[0m \u001b[0mspark\u001b[0m \u001b[0;34m=\u001b[0m \u001b[0mspark\u001b[0m\u001b[0;34m)\u001b[0m\u001b[0;34m\u001b[0m\u001b[0m\n",
      "\u001b[0;32m~/athena2pyspark/athena2pyspark/__init__.py\u001b[0m in \u001b[0;36mrun_query\u001b[0;34m(query, database, s3_output, spark)\u001b[0m\n\u001b[1;32m     94\u001b[0m         status = athena.get_query_execution(QueryExecutionId=query_id)[\n\u001b[1;32m     95\u001b[0m             'QueryExecution']['Status']['State']\n\u001b[0;32m---> 96\u001b[0;31m         \u001b[0;32massert\u001b[0m\u001b[0;34m(\u001b[0m\u001b[0mstatus\u001b[0m \u001b[0;34m!=\u001b[0m \u001b[0;34m'FAILED'\u001b[0m\u001b[0;34m)\u001b[0m\u001b[0;34m\u001b[0m\u001b[0m\n\u001b[0m\u001b[1;32m     97\u001b[0m         \u001b[0;32massert\u001b[0m\u001b[0;34m(\u001b[0m\u001b[0mstatus\u001b[0m \u001b[0;34m!=\u001b[0m \u001b[0;34m'CANCELLED'\u001b[0m\u001b[0;34m)\u001b[0m\u001b[0;34m\u001b[0m\u001b[0m\n\u001b[1;32m     98\u001b[0m         \u001b[0mtime\u001b[0m\u001b[0;34m.\u001b[0m\u001b[0msleep\u001b[0m\u001b[0;34m(\u001b[0m\u001b[0;36m5\u001b[0m\u001b[0;34m)\u001b[0m\u001b[0;34m\u001b[0m\u001b[0m\n",
      "\u001b[0;31mAssertionError\u001b[0m: "
     ]
    }
   ],
   "source": [
    "s3_output = \"s3://leonardo.exalitica.com/boto3/query_examples_dinamica_producto_nuevo/\"\n",
    "\n",
    "path_producto_nuevo = ath.run_query(query = producto_nuevo_query, \n",
    "                                    database = \"ljofre\", \n",
    "                                    s3_output = s3_output, \n",
    "                                    spark = spark)\n",
    "\n",
    "df_producto_nuevo = ath.get_dataframe(path_query=path_producto_nuevo, spark = spark)\n",
    "\n",
    "df_producto_nuevo.limit(10).show()"
   ]
  },
  {
   "cell_type": "markdown",
   "metadata": {},
   "source": [
    "Generar el \"create table\" a partir del dataframe ya creado\n",
    "==\n",
    "\n",
    "Es util registrar este dataframe dentro de un catálogo para poder seguir haciendo consultas dentro de athena: \n",
    "\n",
    "Hay algunas cosas importantes que considerar antes de automatizar la lectura de tablas: Hay que considerar que dentro de la carpeta solo debe estar el archivo que tiene la información. Athena genera un archivo .metadata que debe ser borrado antes de que se haga la lectura."
   ]
  },
  {
   "cell_type": "code",
   "execution_count": 12,
   "metadata": {},
   "outputs": [
    {
     "data": {
      "text/plain": [
       "'s3://leonardo.exalitica.com/boto3/query_examples_dinamica_producto_nuevo/2a994aeb-0847-4556-9dd3-940f277bb2a0.csv'"
      ]
     },
     "execution_count": 12,
     "metadata": {},
     "output_type": "execute_result"
    }
   ],
   "source": [
    "path_producto_nuevo"
   ]
  },
  {
   "cell_type": "code",
   "execution_count": 9,
   "metadata": {
    "collapsed": true
   },
   "outputs": [],
   "source": [
    "s3_input = path_producto_nuevo\n",
    "create_database, create_table = ath.get_ddl(df=df_producto_nuevo,\n",
    "                                            database=\"ljofre\",\n",
    "                                            table=\"nueva_tabla_de_ejemplo\",\n",
    "                                            s3_input=s3_output)"
   ]
  },
  {
   "cell_type": "code",
   "execution_count": 10,
   "metadata": {},
   "outputs": [
    {
     "name": "stdout",
     "output_type": "stream",
     "text": [
      "CREATE DATABASE IF NOT EXISTS ljofre;\n"
     ]
    }
   ],
   "source": [
    "print(create_database)"
   ]
  },
  {
   "cell_type": "code",
   "execution_count": 11,
   "metadata": {},
   "outputs": [
    {
     "name": "stdout",
     "output_type": "stream",
     "text": [
      "CREATE EXTERNAL TABLE IF NOT EXISTS ljofre.nueva_tabla_de_ejemplo (party_id string,\n",
      "promo_id string,\n",
      "comm_channel_cd string,\n",
      "codigo_siebel string,\n",
      "codigo_motor string,\n",
      "communication_id string,\n",
      "page_id string,\n",
      "datos_de_contacto string,\n",
      "correlativo string,\n",
      "grupo string)\n",
      "     ROW FORMAT SERDE 'org.apache.hadoop.hive.serde2.lazy.LazySimpleSerDe'\n",
      "     WITH SERDEPROPERTIES (\n",
      "     'serialization.format' = '1',\n",
      "     'field.delim' = ','\n",
      "     ) LOCATION 's3://leonardo.exalitica.com/boto3/query_examples_dinamica_producto_nuevo/'\n",
      "     TBLPROPERTIES ('has_encrypted_data'='false');\n"
     ]
    }
   ],
   "source": [
    "print(create_table)"
   ]
  },
  {
   "cell_type": "markdown",
   "metadata": {},
   "source": [
    "Ejecutar create table y dejar registrada la tabla en Athena\n",
    "==\n",
    "\n",
    "“Cuando trabajo en un problema nunca pienso sobre la elegancia, sólo sobre cómo resolverlo. Pero cuando he acabado, si la solución no es elegante, sé que es incorrecta” \n",
    "-- R. Buckminster Fuller"
   ]
  },
  {
   "cell_type": "code",
   "execution_count": null,
   "metadata": {
    "collapsed": true
   },
   "outputs": [],
   "source": [
    "from athena2pyspark.config import aws_access_key_id, aws_secret_access_key\n",
    "\n",
    "import boto3\n",
    "\n",
    "client = boto3.client('athena', region_name='us-east-1', \n",
    "                      aws_access_key_id=aws_access_key_id,\n",
    "                      aws_secret_access_key=aws_secret_access_key)\n",
    "\n",
    "response = client.start_query_execution(\n",
    "    QueryString=create_table,\n",
    "    QueryExecutionContext={\n",
    "        'Database': \"ljofre\"\n",
    "        },\n",
    "    ResultConfiguration={\n",
    "            'OutputLocation': s3_output,\n",
    "            }\n",
    "    )\n",
    "print('Execution ID: ' + response['QueryExecutionId'])"
   ]
  },
  {
   "cell_type": "markdown",
   "metadata": {},
   "source": [
    "Hacer un listado a partir de la prepriorizacion\n",
    "=="
   ]
  },
  {
   "cell_type": "code",
   "execution_count": null,
   "metadata": {
    "collapsed": true
   },
   "outputs": [],
   "source": [
    "print(create_table)"
   ]
  },
  {
   "cell_type": "code",
   "execution_count": 8,
   "metadata": {},
   "outputs": [],
   "source": [
    "import boto3"
   ]
  },
  {
   "cell_type": "code",
   "execution_count": 9,
   "metadata": {},
   "outputs": [
    {
     "data": {
      "text/plain": [
       "'1.4.8'"
      ]
     },
     "execution_count": 9,
     "metadata": {},
     "output_type": "execute_result"
    }
   ],
   "source": [
    "boto3.__version__"
   ]
  },
  {
   "cell_type": "code",
   "execution_count": null,
   "metadata": {},
   "outputs": [],
   "source": []
  }
 ],
 "metadata": {
  "kernelspec": {
   "display_name": "Python 3",
   "language": "python",
   "name": "python3"
  },
  "language_info": {
   "codemirror_mode": {
    "name": "ipython",
    "version": 3
   },
   "file_extension": ".py",
   "mimetype": "text/x-python",
   "name": "python",
   "nbconvert_exporter": "python",
   "pygments_lexer": "ipython3",
   "version": "3.6.3"
  }
 },
 "nbformat": 4,
 "nbformat_minor": 2
}
