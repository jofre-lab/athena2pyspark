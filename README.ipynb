{
 "cells": [
  {
   "cell_type": "markdown",
   "metadata": {},
   "source": [
    "athena2pyspark\n",
    "==\n",
    "\n",
    "“La documentación es como el sexo; cuando es bueno, es muy, muy bueno, y cuando es malo, es mejor que nada” \n",
    "-- Dick Brandon\n",
    "\n",
    "Usted está frente athena2pyspark una api creada por exalítica para la manipulación de consultas en sql desde s3 basado en athena. El objetivo de esta librería es no tener un futuro sin servidores y sin cluster EMR. Cuide esta librería, apoye reportando bugs y disfrútela.\n",
    "\n",
    "Este código está siendo probado constantemente en distintos ambientes, de forma local y en jobs de glue ..."
   ]
  },
  {
   "cell_type": "markdown",
   "metadata": {},
   "source": [
    "Instalación\n",
    "==\n",
    "Si usted quiere probar la librería localmente no tiene más que instalarla\n",
    "\n",
    "pip install git+https://ljofre-exalitica@bitbucket.org/exalitica-team/athena2pyspark.git\n",
    "\n",
    "Si quiere usarla en un job de glue, debe apuntar a s3://library.exalitica.com/athena2pyspark.zip"
   ]
  },
  {
   "cell_type": "code",
   "execution_count": 1,
   "metadata": {
    "collapsed": true
   },
   "outputs": [],
   "source": [
    "import athena2pyspark as ath \n",
    "from athena2pyspark.config import getLocalSparkSession\n",
    "\n",
    "spark = getLocalSparkSession() # se demora un poco porque esta creado el SparkSession ..."
   ]
  },
  {
   "cell_type": "code",
   "execution_count": 2,
   "metadata": {},
   "outputs": [
    {
     "data": {
      "text/html": [
       "\n",
       "            <div>\n",
       "                <p><b>SparkSession - in-memory</b></p>\n",
       "                \n",
       "        <div>\n",
       "            <p><b>SparkContext</b></p>\n",
       "\n",
       "            <p><a href=\"http://192.168.1.39:4040\">Spark UI</a></p>\n",
       "\n",
       "            <dl>\n",
       "              <dt>Version</dt>\n",
       "                <dd><code>v2.2.0</code></dd>\n",
       "              <dt>Master</dt>\n",
       "                <dd><code>local</code></dd>\n",
       "              <dt>AppName</dt>\n",
       "                <dd><code>pyspark-shell</code></dd>\n",
       "            </dl>\n",
       "        </div>\n",
       "        \n",
       "            </div>\n",
       "        "
      ],
      "text/plain": [
       "<pyspark.sql.session.SparkSession at 0x10df73160>"
      ]
     },
     "execution_count": 2,
     "metadata": {},
     "output_type": "execute_result"
    }
   ],
   "source": [
    "spark"
   ]
  },
  {
   "cell_type": "markdown",
   "metadata": {},
   "source": [
    "por ejemplo, tenemos la función que retorna la consulta de producto nuevo"
   ]
  },
  {
   "cell_type": "markdown",
   "metadata": {},
   "source": [
    "Hacer una query y que te retorne un dataframe\n",
    "==\n",
    "\n",
    "Podemos usar los recursos de athena para obtener querys basado en sql, esto nos permite hacer querys gigantes de forma server-less"
   ]
  },
  {
   "cell_type": "code",
   "execution_count": 3,
   "metadata": {},
   "outputs": [
    {
     "name": "stdout",
     "output_type": "stream",
     "text": [
      "Execution ID: af777a26-4708-4d02-aef9-ea60e588d2ad\n"
     ]
    }
   ],
   "source": [
    "s3_output = \"s3://leonardo.exalitica.com/glue_example/query_examples_select_all/\"\n",
    "path_dataframe = ath.run_query(query = \"select * from baul_2 limit 10\", \n",
    "                               database = \"ljofre\", \n",
    "                               s3_output = s3_output,\n",
    "                               spark = spark)"
   ]
  },
  {
   "cell_type": "code",
   "execution_count": 4,
   "metadata": {},
   "outputs": [
    {
     "name": "stdout",
     "output_type": "stream",
     "text": [
      "+---------+-----+-----+------+-------+----+--------+----------+-----+------+-------+----+----+-----+-------+\n",
      "| party_id| corr|cv_us|cv_u4s|cv_u12s|m_us|   m_u4s|    m_u12s|cp_us|cp_u4s|cp_u12s| rec|tu4s|tu12s|  n_key|\n",
      "+---------+-----+-----+------+-------+----+--------+----------+-----+------+-------+----+----+-----+-------+\n",
      "|100015028| 8926|    0|     0|      2|   0|     0.0| 2336.1345|    0|   0.0|    2.0|37.0|  30| 37.0|2016_10|\n",
      "|100067924| 3757|    0|     0|      5|   0|     0.0| 2928.7397|    0|   0.0|    5.0|47.0|  30|  7.0|2016_10|\n",
      "|100200278| 4394|    0|     1|      1|   0|637.8151|  637.8151|    0|   1.0|    1.0|15.0|  30| 90.0|2016_10|\n",
      "|100246523|32142|    0|     0|      2|   0|     0.0|  1907.563|    0|   0.0|    2.0|57.0|  30| 12.0|2016_10|\n",
      "|100397603|19801|    0|     0|      1|   0|     0.0|10923.5294|    0|   0.0|    2.0|71.0|  30| 90.0|2016_10|\n",
      "|100444594|11798|    0|     1|      1|   0|2092.437|  2092.437|    0|   1.0|    1.0|26.0|  30| 90.0|2016_10|\n",
      "|100586799|20825|    0|     1|      1|   0|6007.563|  6007.563|    0|   1.0|    1.0|20.0|  30| 90.0|2016_10|\n",
      "|100644377|33342|    0|     1|      5|   0|455.4621| 4153.7809|    0|  0.35|  3.087|31.0|  30| 13.0|2016_10|\n",
      "|100783909|36235|    0|     0|      1|   0|     0.0| 2008.4034|    0|   0.0|    1.0|86.0|  30| 90.0|2016_10|\n",
      "|100844927|26286|    0|     0|      1|   0|     0.0| 2683.1932|    0|   0.0|  0.915|83.0|  30| 90.0|2016_10|\n",
      "+---------+-----+-----+------+-------+----+--------+----------+-----+------+-------+----+----+-----+-------+\n",
      "\n"
     ]
    }
   ],
   "source": [
    "df = ath.get_dataframe(path_query=path_dataframe, spark=spark)\n",
    "df.show()"
   ]
  },
  {
   "cell_type": "markdown",
   "metadata": {},
   "source": [
    "Dinámica producto nuevo\n",
    "==\n",
    "\n",
    "Podemos obtener el dataframe de dinámica de producto nuevo"
   ]
  },
  {
   "cell_type": "code",
   "execution_count": 5,
   "metadata": {
    "collapsed": true
   },
   "outputs": [],
   "source": [
    "from athena2pyspark.athena_sql.dinamicas import producto_nuevo \n",
    "# “El código nunca miente, los comentarios sí” -- Ron Jeffries\n",
    "\n",
    "#todo: agregar codigo_siebel\n",
    "producto_nuevo_query = producto_nuevo(subclase=110209, marca='2717', lift=8) # creamos la query"
   ]
  },
  {
   "cell_type": "code",
   "execution_count": 8,
   "metadata": {},
   "outputs": [
    {
     "name": "stdout",
     "output_type": "stream",
     "text": [
      "Execution ID: 2a994aeb-0847-4556-9dd3-940f277bb2a0\n",
      "+---------+--------+---------------+-------------+------------+----------------+-------+--------------------+-----------+-----+\n",
      "| party_id|promo_id|comm_channel_cd|codigo_siebel|codigo_motor|communication_id|page_id|   datos_de_contacto|correlativo|grupo|\n",
      "+---------+--------+---------------+-------------+------------+----------------+-------+--------------------+-----------+-----+\n",
      "|180039513|     300|              1|      PopCorn|         300|               1|      1|HECTOR.HOBAICA@GM...|      61009|    0|\n",
      "|127228094|     300|              1|      PopCorn|         300|               1|      1|Josefaundez01@gma...|      61009|    0|\n",
      "|107562342|     300|              1|      PopCorn|         300|               1|      1|  PDONOSOP@GMAIL.COM|      61009|    0|\n",
      "|167626019|     300|              1|      PopCorn|         300|               1|      1|     PHUMERES@CSM.CL|      61009|    0|\n",
      "|169905581|     300|              1|      PopCorn|         300|               1|      1|    Rbullard@itau.cl|      61009|    0|\n",
      "|151828781|     300|              1|      PopCorn|         300|               1|      1| Rosyrener@gmail.com|      61009|    0|\n",
      "|176966390|     300|              1|      PopCorn|         300|               1|      1|IVONNEMC8@HOTMAIL...|      61009|    0|\n",
      "|154872394|     300|              1|      PopCorn|         300|               1|      1| WMCLAUDIO@GMAIL.COM|      61009|    0|\n",
      "|121682849|     300|              1|      PopCorn|         300|               1|      1|PATRIVERI@HOTMAIL...|      61009|    0|\n",
      "|143086980|     300|              1|      PopCorn|         300|               1|      1|INGRIDFREIRE.LORE...|      61009|    0|\n",
      "+---------+--------+---------------+-------------+------------+----------------+-------+--------------------+-----------+-----+\n",
      "\n"
     ]
    }
   ],
   "source": [
    "s3_output = \"s3://leonardo.exalitica.com/boto3/query_examples_dinamica_producto_nuevo/\"\n",
    "\n",
    "path_producto_nuevo = ath.run_query(query = producto_nuevo_query, \n",
    "                                    database = \"prod_jumbo\", \n",
    "                                    s3_output = s3_output, \n",
    "                                    spark = spark)\n",
    "\n",
    "df_producto_nuevo = ath.get_dataframe(path_query=path_producto_nuevo, spark = spark)\n",
    "\n",
    "df_producto_nuevo.limit(10).show()"
   ]
  },
  {
   "cell_type": "markdown",
   "metadata": {},
   "source": [
    "Generar el \"create table\" a partir del dataframe ya creado\n",
    "==\n",
    "\n",
    "Es util registrar este dataframe dentro de un catálogo para poder seguir haciendo consultas dentro de athena: \n",
    "\n",
    "Hay algunas cosas importantes que considerar antes de automatizar la lectura de tablas: Hay que considerar que dentro de la carpeta solo debe estar el archivo que tiene la información. Athena genera un archivo .metadata que debe ser borrado antes de que se haga la lectura."
   ]
  },
  {
   "cell_type": "code",
   "execution_count": 12,
   "metadata": {},
   "outputs": [
    {
     "data": {
      "text/plain": [
       "'s3://leonardo.exalitica.com/boto3/query_examples_dinamica_producto_nuevo/2a994aeb-0847-4556-9dd3-940f277bb2a0.csv'"
      ]
     },
     "execution_count": 12,
     "metadata": {},
     "output_type": "execute_result"
    }
   ],
   "source": [
    "path_producto_nuevo"
   ]
  },
  {
   "cell_type": "code",
   "execution_count": 9,
   "metadata": {
    "collapsed": true
   },
   "outputs": [],
   "source": [
    "s3_input = path_producto_nuevo\n",
    "create_database, create_table = ath.get_ddl(df=df_producto_nuevo,\n",
    "                                            database=\"ljofre\",\n",
    "                                            table=\"nueva_tabla_de_ejemplo\",\n",
    "                                            s3_input=s3_output)"
   ]
  },
  {
   "cell_type": "code",
   "execution_count": 10,
   "metadata": {},
   "outputs": [
    {
     "name": "stdout",
     "output_type": "stream",
     "text": [
      "CREATE DATABASE IF NOT EXISTS ljofre;\n"
     ]
    }
   ],
   "source": [
    "print(create_database)"
   ]
  },
  {
   "cell_type": "code",
   "execution_count": 11,
   "metadata": {},
   "outputs": [
    {
     "name": "stdout",
     "output_type": "stream",
     "text": [
      "CREATE EXTERNAL TABLE IF NOT EXISTS ljofre.nueva_tabla_de_ejemplo (party_id string,\n",
      "promo_id string,\n",
      "comm_channel_cd string,\n",
      "codigo_siebel string,\n",
      "codigo_motor string,\n",
      "communication_id string,\n",
      "page_id string,\n",
      "datos_de_contacto string,\n",
      "correlativo string,\n",
      "grupo string)\n",
      "     ROW FORMAT SERDE 'org.apache.hadoop.hive.serde2.lazy.LazySimpleSerDe'\n",
      "     WITH SERDEPROPERTIES (\n",
      "     'serialization.format' = '1',\n",
      "     'field.delim' = ','\n",
      "     ) LOCATION 's3://leonardo.exalitica.com/boto3/query_examples_dinamica_producto_nuevo/'\n",
      "     TBLPROPERTIES ('has_encrypted_data'='false');\n"
     ]
    }
   ],
   "source": [
    "print(create_table)"
   ]
  },
  {
   "cell_type": "markdown",
   "metadata": {},
   "source": [
    "Ejecutar create table y dejar registrada la tabla en Athena\n",
    "==\n",
    "\n",
    "“Cuando trabajo en un problema nunca pienso sobre la elegancia, sólo sobre cómo resolverlo. Pero cuando he acabado, si la solución no es elegante, sé que es incorrecta” \n",
    "-- R. Buckminster Fuller"
   ]
  },
  {
   "cell_type": "code",
   "execution_count": null,
   "metadata": {
    "collapsed": true
   },
   "outputs": [],
   "source": [
    "from athena2pyspark.config import aws_access_key_id, aws_secret_access_key\n",
    "\n",
    "import boto3\n",
    "\n",
    "client = boto3.client('athena', region_name='us-east-1', \n",
    "                      aws_access_key_id=aws_access_key_id,\n",
    "                      aws_secret_access_key=aws_secret_access_key)\n",
    "\n",
    "response = client.start_query_execution(\n",
    "    QueryString=create_table,\n",
    "    QueryExecutionContext={\n",
    "        'Database': \"ljofre\"\n",
    "        },\n",
    "    ResultConfiguration={\n",
    "            'OutputLocation': s3_output,\n",
    "            }\n",
    "    )\n",
    "print('Execution ID: ' + response['QueryExecutionId'])"
   ]
  },
  {
   "cell_type": "markdown",
   "metadata": {},
   "source": [
    "Hacer un listado a partir de la prepriorizacion\n",
    "=="
   ]
  },
  {
   "cell_type": "code",
   "execution_count": null,
   "metadata": {
    "collapsed": true
   },
   "outputs": [],
   "source": [
    "print(create_table)"
   ]
  },
  {
   "cell_type": "code",
   "execution_count": null,
   "metadata": {
    "collapsed": true
   },
   "outputs": [],
   "source": []
  }
 ],
 "metadata": {
  "kernelspec": {
   "display_name": "Python 2",
   "language": "python",
   "name": "python2"
  },
  "language_info": {
   "codemirror_mode": {
    "name": "ipython",
    "version": 2
   },
   "file_extension": ".py",
   "mimetype": "text/x-python",
   "name": "python",
   "nbconvert_exporter": "python",
   "pygments_lexer": "ipython2",
   "version": "2.7.14"
  }
 },
 "nbformat": 4,
 "nbformat_minor": 2
}
