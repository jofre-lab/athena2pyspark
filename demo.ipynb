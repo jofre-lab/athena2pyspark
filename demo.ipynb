{
 "cells": [
  {
   "cell_type": "markdown",
   "metadata": {},
   "source": [
    "athena2pyspark\n",
    "==\n",
    "\n",
    "Usted está frente athena2pyspark una api creada por exalítica para la manipulación de consultas en sql desde s3 basado en athena. El objetivo de esta librería es no tener un futuro sin servidores y sin cluster EMR. Cuide esta librería, apoye reportando bugs y disfrútela."
   ]
  },
  {
   "cell_type": "markdown",
   "metadata": {},
   "source": [
    "Instalación\n",
    "==\n",
    "pip install git+https://ljofre-exalitica@bitbucket.org/exalitica-team/athena2pyspark.git"
   ]
  },
  {
   "cell_type": "code",
   "execution_count": 1,
   "metadata": {},
   "outputs": [],
   "source": [
    "import athena2pyspark as ath # se demora un poco porque esta creado el SparkContext"
   ]
  },
  {
   "cell_type": "code",
   "execution_count": 2,
   "metadata": {},
   "outputs": [],
   "source": [
    "from athena2pyspark.athena_sql.dinamicas import producto_nuevo"
   ]
  },
  {
   "cell_type": "markdown",
   "metadata": {},
   "source": [
    "por ejemplo, tenemos la función que retorna la consulta de producto nuevo"
   ]
  },
  {
   "cell_type": "code",
   "execution_count": 3,
   "metadata": {
    "scrolled": false
   },
   "outputs": [
    {
     "name": "stdout",
     "output_type": "stream",
     "text": [
      "\n",
      "    WITH fuente_filtrada AS\n",
      "    (\n",
      "    with items_filtrado AS (\n",
      "        SELECT DISTINCT item_hash.item_id\n",
      "        FROM prod_jumbo.item_hash\n",
      "        WHERE item_hash.item_subclass_cd = 110209\n",
      "                OR item_hash.brand_cd = '2717')\n",
      "    SELECT fuente.party_id, fuente.tran_start_dt, fuente.item_id from fuente join items_filtrado\n",
      "    on fuente.item_id = items_filtrado.item_id\n",
      "      where cast(fuente.party_id as integer) > 0\n",
      "    )\n",
      "    \n",
      "    -- select count(*) from fuente_filtrada 35 929 589\n",
      "    \n",
      "    ,\n",
      "    subclasepop AS\n",
      "    (\n",
      "      SELECT fuente_filtrada.party_id,\n",
      "             item_hash.item_subclass_cd,\n",
      "             COUNT(DISTINCT (fuente_filtrada.tran_start_dt)) AS visitas\n",
      "      FROM fuente_filtrada\n",
      "        LEFT JOIN item_hash ON (fuente_filtrada.item_id = item_hash.item_id)\n",
      "      GROUP BY fuente_filtrada.party_id,\n",
      "               item_hash.item_subclass_cd\n",
      "    )\n",
      "    \n",
      "    -- select count(*) from subclasepop 15867270\n",
      "    \n",
      "    ,\n",
      "    marcapop AS\n",
      "    (\n",
      "      SELECT fuente_filtrada.party_id,\n",
      "             item_hash.brand_cd,\n",
      "             COUNT(DISTINCT (fuente_filtrada.tran_start_dt)) AS visitas\n",
      "      FROM fuente_filtrada\n",
      "        LEFT JOIN item_hash ON (fuente_filtrada.item_id = item_hash.item_id)\n",
      "      GROUP BY fuente_filtrada.party_id,\n",
      "               item_hash.brand_cd\n",
      "    )\n",
      "    \n",
      "    -- select count(*) from marcapop 2336032\n",
      "    ,\n",
      "    pobsubclase AS\n",
      "    (\n",
      "      SELECT subclasepop.party_id,\n",
      "             subclasepop.visitas / b.visitasprom AS lift_subclase\n",
      "      FROM subclasepop\n",
      "        LEFT JOIN (SELECT subclasepop.item_subclass_cd,\n",
      "                          AVG(subclasepop.visitas) AS visitasprom\n",
      "                   FROM subclasepop\n",
      "                   GROUP BY 1) AS b ON subclasepop.item_subclass_cd = b.item_subclass_cd\n",
      "      \n",
      "      where subclasepop.item_subclass_cd=110209\n",
      "    )\n",
      "    -- select count(*) from pobsubclase 15867270\n",
      "    \n",
      "    ,\n",
      "    pobmarca AS\n",
      "    (\n",
      "      -- metrica poblacionales marca\n",
      "      SELECT marcapop.party_id,\n",
      "             marcapop.visitas / b.visitasprom AS lift_marca\n",
      "      FROM marcapop\n",
      "        LEFT JOIN (SELECT marcapop.brand_cd,\n",
      "                          AVG(marcapop.visitas) AS visitasprom\n",
      "                   FROM marcapop\n",
      "                   GROUP BY 1) AS b ON marcapop.brand_cd = b.brand_cd\n",
      "      \n",
      "      where marcapop.brand_cd='2717'\n",
      "      \n",
      "    )\n",
      "    \n",
      "    ,\n",
      "    lift\n",
      "    as (\n",
      "    SELECT pobsubclase.party_id,\n",
      "           pobsubclase.lift_subclase,\n",
      "           pobmarca.lift_marca,\n",
      "           pobsubclase.lift_subclase*pobmarca.lift_marca AS lift_afinidad\n",
      "    FROM pobsubclase\n",
      "      JOIN pobmarca ON pobsubclase.party_id = pobmarca.party_id\n",
      "      order by 4 desc)\n",
      "    ,\n",
      "    contact as\n",
      "    (\n",
      "      select party_id,  jumbo_cl_ind_email from clientes where ju_mail=1\n",
      "      )\n",
      "      \n",
      "      ,\n",
      "      listado as \n",
      "      (\n",
      "      \n",
      "    select a.*,b.jumbo_cl_ind_email from lift as a left join contact as b on a.party_id=cast(b.party_id as varchar) where b.party_id is not null\n",
      "      )\n",
      "      -- select count(*) from listado 108196\n",
      "       \t-- 76506\n",
      "     -- select count(*) from lift  -- 304730\n",
      "     ,\n",
      "     list_form as (\n",
      "     select party_id ,\n",
      "             '300' as promo_id,\n",
      "              1 as  comm_channel_cd,\n",
      "             'PopCorn' as codigo_siebel,\n",
      "              '300' as codigo_motor,\n",
      "              1 as communication_id,\n",
      "              1 as page_id,\n",
      "              jumbo_cl_ind_email as datos_de_contacto,\n",
      "              61009 as correlativo,\n",
      "       CASE WHEN rand()<= 0.05 then 1 else 0 end grupo\n",
      "              from listado where lift_afinidad>8\n",
      "      )\n",
      "      \n",
      "      select count(*), sum(grupo) from list_form\n"
     ]
    }
   ],
   "source": [
    "producto_nuevo_query = producto_nuevo(subclase=110209, marca='2717', lift=8)\n",
    "print(producto_nuevo_query)"
   ]
  },
  {
   "cell_type": "markdown",
   "metadata": {},
   "source": [
    "Hacer una query y que te retorne un dataframe\n",
    "==\n",
    "\n",
    "Podemos usar los recursos de athena para obtener querys basado en sql, esto nos permite hacer querys gigantes de forma server-less"
   ]
  },
  {
   "cell_type": "code",
   "execution_count": 4,
   "metadata": {},
   "outputs": [
    {
     "name": "stdout",
     "output_type": "stream",
     "text": [
      "Execution ID: 8998c755-3943-4ffa-8bb9-d2211ce279bf\n"
     ]
    }
   ],
   "source": [
    "s3_output = \"s3://leonardo.exalitica.com/boto3/query_1/\"\n",
    "path_dataframe = ath.run_query(query = \"select * from baul_2 limit 10\", database = \"ljofre\", s3_output = s3_output)"
   ]
  },
  {
   "cell_type": "code",
   "execution_count": 6,
   "metadata": {},
   "outputs": [
    {
     "name": "stdout",
     "output_type": "stream",
     "text": [
      "+---------+-----+-----+------+-------+----+---------+------------------+-----+------+-------+----+----+-----+-------+\n",
      "| party_id| corr|cv_us|cv_u4s|cv_u12s|m_us|    m_u4s|            m_u12s|cp_us|cp_u4s|cp_u12s| rec|tu4s|tu12s|  n_key|\n",
      "+---------+-----+-----+------+-------+----+---------+------------------+-----+------+-------+----+----+-----+-------+\n",
      "|117989852|23353|    0|     0|      1|   0|      0.0|         2368.9076|    0|   0.0|    1.0|86.0|  30| 90.0|2016_10|\n",
      "|113712744|12817|    0|     0|      1|   0|      0.0|         2008.4034|    0|   0.0|    1.0|64.0|  30| 90.0|2016_10|\n",
      "|118189345| 7742|    0|     1|      2|   0| 838.6554|         2063.8654|    0|   3.0|    5.0|24.0|  30| 65.0|2016_10|\n",
      "|113901510|27814|    0|     0|      1|   0|      0.0|         2267.2269|    0|   0.0|   0.45|52.0|  30| 90.0|2016_10|\n",
      "|118386819|19692|    0|     0|      3|   0|      0.0|13537.815200000001|    0|   0.0|    9.0|45.0|  30| 10.5|2016_10|\n",
      "|114096817|   37|    0|     0|      1|   0|      0.0|         4031.9328|    0|   0.0|    2.0|63.0|  30| 90.0|2016_10|\n",
      "|118585913| 3457|    0|     0|      1|   0|      0.0|          462.1849|    0|   0.0|    1.0|75.0|  30| 90.0|2016_10|\n",
      "|114303203| 1238|    0|     1|      1|   0|3357.1429|         3357.1429|    0|   5.0|    5.0|22.0|  30| 90.0|2016_10|\n",
      "|118780401| 4336|    0|     1|      2|   0|1226.0504|1543.6975000000002|    0|   1.0|    3.0|22.0|  30| 40.0|2016_10|\n",
      "|114490551| 2269|    0|     0|      1|   0|      0.0|         1141.1765|    0|   0.0|    2.0|57.0|  30| 90.0|2016_10|\n",
      "+---------+-----+-----+------+-------+----+---------+------------------+-----+------+-------+----+----+-----+-------+\n",
      "\n"
     ]
    }
   ],
   "source": [
    "df = ath.get_dataframe(path_query=path_dataframe)\n",
    "df.show()"
   ]
  },
  {
   "cell_type": "markdown",
   "metadata": {},
   "source": [
    "Dinámica producto nuevo\n",
    "==\n",
    "\n",
    "Podemos obtener el dataframe de dinámica de producto nuevo"
   ]
  },
  {
   "cell_type": "code",
   "execution_count": 7,
   "metadata": {},
   "outputs": [
    {
     "name": "stdout",
     "output_type": "stream",
     "text": [
      "Execution ID: 84aa9c03-36cb-4700-b02f-edca1bf7b3ab\n"
     ]
    }
   ],
   "source": [
    "path_producto_nuevo = ath.run_query(query = producto_nuevo_query, database = \"prod_jumbo\", s3_output = s3_output)"
   ]
  },
  {
   "cell_type": "code",
   "execution_count": 8,
   "metadata": {},
   "outputs": [
    {
     "name": "stdout",
     "output_type": "stream",
     "text": [
      "+-----+-----+\n",
      "|_col0|_col1|\n",
      "+-----+-----+\n",
      "|12094|  600|\n",
      "+-----+-----+\n",
      "\n"
     ]
    }
   ],
   "source": [
    "df_producto_nuevo = ath.get_dataframe(path_query=path_producto_nuevo)\n",
    "df_producto_nuevo.show()"
   ]
  },
  {
   "cell_type": "markdown",
   "metadata": {},
   "source": [
    "Generar el \"create table\" a partir del dataframe ya creado\n",
    "==\n",
    "\n",
    "Es util registrar este dataframe dentro de un catálogo para poder seguir haciendo consultas dentro de athena"
   ]
  },
  {
   "cell_type": "code",
   "execution_count": 8,
   "metadata": {},
   "outputs": [],
   "source": [
    "s3_input = \"s3://leonardo.exalitica.com/boto3/query_1/8da33860-e60e-42a9-9e83-79120a4a7c95.csv\"\n",
    "create_database, create_table = ath.get_ddl(df=df,\n",
    "                                            database=\"ljofre\",\n",
    "                                            table=\"nueva_tabla\",\n",
    "                                            s3_input=s3_input)"
   ]
  },
  {
   "cell_type": "code",
   "execution_count": 11,
   "metadata": {},
   "outputs": [
    {
     "name": "stdout",
     "output_type": "stream",
     "text": [
      "CREATE DATABASE IF NOT EXISTS ljofre;\n"
     ]
    }
   ],
   "source": [
    "print(create_database)"
   ]
  },
  {
   "cell_type": "code",
   "execution_count": 12,
   "metadata": {},
   "outputs": [
    {
     "name": "stdout",
     "output_type": "stream",
     "text": [
      "CREATE EXTERNAL TABLE IF NOT EXISTS ljofre.nueva_tabla ('party_id' string,'corr' string,'cv_us' string,'cv_u4s' string,'cv_u12s' string,'m_us' string,'m_u4s' string,'m_u12s' string,'cp_us' string,'cp_u4s' string,'cp_u12s' string,'rec' string,'tu4s' string,'tu12s' string,'n_key' string)\n",
      "     ROW FORMAT SERDE 'org.apache.hadoop.hive.ql.io.parquet.serde.ParquetHiveSerDe'\n",
      "     WITH SERDEPROPERTIES (\n",
      "     'serialization.format' = '1'\n",
      "     ) LOCATION 's3://leonardo.exalitica.com/boto3/query_1/8da33860-e60e-42a9-9e83-79120a4a7c95.csv'\n",
      "     TBLPROPERTIES ('has_encrypted_data'='false');\n"
     ]
    }
   ],
   "source": [
    "print(create_table)"
   ]
  },
  {
   "cell_type": "markdown",
   "metadata": {},
   "source": [
    "Ejecutar create table y dejar registrada la tabla en Athena\n",
    "=="
   ]
  },
  {
   "cell_type": "code",
   "execution_count": 15,
   "metadata": {},
   "outputs": [
    {
     "ename": "NameError",
     "evalue": "name 'aws_access_key_id' is not defined",
     "output_type": "error",
     "traceback": [
      "\u001b[0;31m---------------------------------------------------------------------------\u001b[0m",
      "\u001b[0;31mNameError\u001b[0m                                 Traceback (most recent call last)",
      "\u001b[0;32m<ipython-input-15-0bd2e1812e04>\u001b[0m in \u001b[0;36m<module>\u001b[0;34m()\u001b[0m\n\u001b[1;32m      1\u001b[0m \u001b[0;32mimport\u001b[0m \u001b[0mboto3\u001b[0m\u001b[0;34m\u001b[0m\u001b[0m\n\u001b[1;32m      2\u001b[0m client = boto3.client('athena', region_name='us-east-1', \n\u001b[0;32m----> 3\u001b[0;31m                       \u001b[0maws_access_key_id\u001b[0m\u001b[0;34m=\u001b[0m\u001b[0maws_access_key_id\u001b[0m\u001b[0;34m,\u001b[0m\u001b[0;34m\u001b[0m\u001b[0m\n\u001b[0m\u001b[1;32m      4\u001b[0m                       aws_secret_access_key=aws_secret_access_key)\n\u001b[1;32m      5\u001b[0m \u001b[0;34m\u001b[0m\u001b[0m\n",
      "\u001b[0;31mNameError\u001b[0m: name 'aws_access_key_id' is not defined"
     ]
    }
   ],
   "source": [
    "import boto3\n",
    "client = boto3.client('athena', region_name='us-east-1', \n",
    "                      aws_access_key_id=aws_access_key_id,\n",
    "                      aws_secret_access_key=aws_secret_access_key)\n",
    "\n",
    "response = client.start_query_execution(\n",
    "    QueryString=create_table,\n",
    "    QueryExecutionContext={\n",
    "        'Database': database\n",
    "        }\n",
    "    )\n",
    "print('Execution ID: ' + response['QueryExecutionId'])"
   ]
  },
  {
   "cell_type": "markdown",
   "metadata": {},
   "source": [
    "Hacer un listado a partir de la prepriorizacion\n",
    "=="
   ]
  },
  {
   "cell_type": "code",
   "execution_count": null,
   "metadata": {},
   "outputs": [],
   "source": []
  }
 ],
 "metadata": {
  "kernelspec": {
   "display_name": "Python 3",
   "language": "python",
   "name": "python3"
  },
  "language_info": {
   "codemirror_mode": {
    "name": "ipython",
    "version": 3
   },
   "file_extension": ".py",
   "mimetype": "text/x-python",
   "name": "python",
   "nbconvert_exporter": "python",
   "pygments_lexer": "ipython3",
   "version": "3.6.3"
  }
 },
 "nbformat": 4,
 "nbformat_minor": 2
}
