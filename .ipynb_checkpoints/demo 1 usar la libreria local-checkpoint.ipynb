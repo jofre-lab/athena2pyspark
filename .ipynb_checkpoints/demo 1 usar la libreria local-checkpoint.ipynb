{
 "cells": [
  {
   "cell_type": "markdown",
   "metadata": {},
   "source": [
    "athena2pyspark\n",
    "==\n",
    "\n",
    "“La documentación es como el sexo; cuando es bueno, es muy, muy bueno, y cuando es malo, es mejor que nada” \n",
    "-- Dick Brandon\n",
    "\n",
    "Usted está frente athena2pyspark una api creada por exalítica para la manipulación de consultas en sql desde s3 basado en athena. El objetivo de esta librería es no tener un futuro sin servidores y sin cluster EMR. Cuide esta librería, apoye reportando bugs y disfrútela."
   ]
  },
  {
   "cell_type": "markdown",
   "metadata": {},
   "source": [
    "Instalación\n",
    "==\n",
    "pip install git+https://ljofre-exalitica@bitbucket.org/exalitica-team/athena2pyspark.git"
   ]
  },
  {
   "cell_type": "code",
   "execution_count": 1,
   "metadata": {},
   "outputs": [],
   "source": [
    "import athena2pyspark as ath # se demora un poco porque esta creado el SparkContext ..."
   ]
  },
  {
   "cell_type": "markdown",
   "metadata": {},
   "source": [
    "por ejemplo, tenemos la función que retorna la consulta de producto nuevo"
   ]
  },
  {
   "cell_type": "markdown",
   "metadata": {},
   "source": [
    "Hacer una query y que te retorne un dataframe\n",
    "==\n",
    "\n",
    "Podemos usar los recursos de athena para obtener querys basado en sql, esto nos permite hacer querys gigantes de forma server-less"
   ]
  },
  {
   "cell_type": "code",
   "execution_count": 2,
   "metadata": {},
   "outputs": [
    {
     "name": "stdout",
     "output_type": "stream",
     "text": [
      "Execution ID: efab3ff6-5805-44af-90ea-9cee42cb8931\n"
     ]
    }
   ],
   "source": [
    "s3_output = \"s3://leonardo.exalitica.com/boto3/query_examples_select_all/\"\n",
    "path_dataframe = ath.run_query(query = \"select * from baul_2 limit 10\", database = \"ljofre\", s3_output = s3_output)"
   ]
  },
  {
   "cell_type": "code",
   "execution_count": 3,
   "metadata": {},
   "outputs": [
    {
     "data": {
      "text/html": [
       "<div>\n",
       "<style scoped>\n",
       "    .dataframe tbody tr th:only-of-type {\n",
       "        vertical-align: middle;\n",
       "    }\n",
       "\n",
       "    .dataframe tbody tr th {\n",
       "        vertical-align: top;\n",
       "    }\n",
       "\n",
       "    .dataframe thead th {\n",
       "        text-align: right;\n",
       "    }\n",
       "</style>\n",
       "<table border=\"1\" class=\"dataframe\">\n",
       "  <thead>\n",
       "    <tr style=\"text-align: right;\">\n",
       "      <th></th>\n",
       "      <th>party_id</th>\n",
       "      <th>corr</th>\n",
       "      <th>cv_us</th>\n",
       "      <th>cv_u4s</th>\n",
       "      <th>cv_u12s</th>\n",
       "      <th>m_us</th>\n",
       "      <th>m_u4s</th>\n",
       "      <th>m_u12s</th>\n",
       "      <th>cp_us</th>\n",
       "      <th>cp_u4s</th>\n",
       "      <th>cp_u12s</th>\n",
       "      <th>rec</th>\n",
       "      <th>tu4s</th>\n",
       "      <th>tu12s</th>\n",
       "      <th>n_key</th>\n",
       "    </tr>\n",
       "  </thead>\n",
       "  <tbody>\n",
       "    <tr>\n",
       "      <th>0</th>\n",
       "      <td>149800088</td>\n",
       "      <td>2770</td>\n",
       "      <td>0</td>\n",
       "      <td>0</td>\n",
       "      <td>1</td>\n",
       "      <td>0</td>\n",
       "      <td>0.0000</td>\n",
       "      <td>1092.4369</td>\n",
       "      <td>0</td>\n",
       "      <td>0.0</td>\n",
       "      <td>0.935</td>\n",
       "      <td>78.0</td>\n",
       "      <td>30</td>\n",
       "      <td>90.0</td>\n",
       "      <td>2016_10</td>\n",
       "    </tr>\n",
       "    <tr>\n",
       "      <th>1</th>\n",
       "      <td>149148141</td>\n",
       "      <td>5104</td>\n",
       "      <td>0</td>\n",
       "      <td>0</td>\n",
       "      <td>1</td>\n",
       "      <td>0</td>\n",
       "      <td>0.0000</td>\n",
       "      <td>1530.7869</td>\n",
       "      <td>0</td>\n",
       "      <td>0.0</td>\n",
       "      <td>1.000</td>\n",
       "      <td>84.0</td>\n",
       "      <td>30</td>\n",
       "      <td>90.0</td>\n",
       "      <td>2016_10</td>\n",
       "    </tr>\n",
       "    <tr>\n",
       "      <th>2</th>\n",
       "      <td>149998428</td>\n",
       "      <td>29393</td>\n",
       "      <td>0</td>\n",
       "      <td>0</td>\n",
       "      <td>1</td>\n",
       "      <td>0</td>\n",
       "      <td>0.0000</td>\n",
       "      <td>836.9748</td>\n",
       "      <td>0</td>\n",
       "      <td>0.0</td>\n",
       "      <td>1.000</td>\n",
       "      <td>36.0</td>\n",
       "      <td>30</td>\n",
       "      <td>90.0</td>\n",
       "      <td>2016_10</td>\n",
       "    </tr>\n",
       "    <tr>\n",
       "      <th>3</th>\n",
       "      <td>149356648</td>\n",
       "      <td>37764</td>\n",
       "      <td>0</td>\n",
       "      <td>1</td>\n",
       "      <td>1</td>\n",
       "      <td>0</td>\n",
       "      <td>7554.6218</td>\n",
       "      <td>7554.6218</td>\n",
       "      <td>0</td>\n",
       "      <td>1.0</td>\n",
       "      <td>1.000</td>\n",
       "      <td>15.0</td>\n",
       "      <td>30</td>\n",
       "      <td>90.0</td>\n",
       "      <td>2016_10</td>\n",
       "    </tr>\n",
       "    <tr>\n",
       "      <th>4</th>\n",
       "      <td>150189980</td>\n",
       "      <td>20151</td>\n",
       "      <td>0</td>\n",
       "      <td>1</td>\n",
       "      <td>1</td>\n",
       "      <td>0</td>\n",
       "      <td>2057.9832</td>\n",
       "      <td>2057.9832</td>\n",
       "      <td>0</td>\n",
       "      <td>2.0</td>\n",
       "      <td>2.000</td>\n",
       "      <td>28.0</td>\n",
       "      <td>30</td>\n",
       "      <td>90.0</td>\n",
       "      <td>2016_10</td>\n",
       "    </tr>\n",
       "    <tr>\n",
       "      <th>5</th>\n",
       "      <td>149557306</td>\n",
       "      <td>1213</td>\n",
       "      <td>0</td>\n",
       "      <td>0</td>\n",
       "      <td>1</td>\n",
       "      <td>0</td>\n",
       "      <td>0.0000</td>\n",
       "      <td>1444.5378</td>\n",
       "      <td>0</td>\n",
       "      <td>0.0</td>\n",
       "      <td>1.000</td>\n",
       "      <td>83.0</td>\n",
       "      <td>30</td>\n",
       "      <td>90.0</td>\n",
       "      <td>2016_10</td>\n",
       "    </tr>\n",
       "    <tr>\n",
       "      <th>6</th>\n",
       "      <td>150388014</td>\n",
       "      <td>3506</td>\n",
       "      <td>0</td>\n",
       "      <td>0</td>\n",
       "      <td>1</td>\n",
       "      <td>0</td>\n",
       "      <td>0.0000</td>\n",
       "      <td>1326.8908</td>\n",
       "      <td>0</td>\n",
       "      <td>0.0</td>\n",
       "      <td>1.000</td>\n",
       "      <td>63.0</td>\n",
       "      <td>30</td>\n",
       "      <td>90.0</td>\n",
       "      <td>2016_10</td>\n",
       "    </tr>\n",
       "    <tr>\n",
       "      <th>7</th>\n",
       "      <td>149742519</td>\n",
       "      <td>1765</td>\n",
       "      <td>0</td>\n",
       "      <td>0</td>\n",
       "      <td>2</td>\n",
       "      <td>0</td>\n",
       "      <td>0.0000</td>\n",
       "      <td>3225.2100</td>\n",
       "      <td>0</td>\n",
       "      <td>0.0</td>\n",
       "      <td>2.000</td>\n",
       "      <td>40.0</td>\n",
       "      <td>30</td>\n",
       "      <td>18.0</td>\n",
       "      <td>2016_10</td>\n",
       "    </tr>\n",
       "    <tr>\n",
       "      <th>8</th>\n",
       "      <td>150579833</td>\n",
       "      <td>1268</td>\n",
       "      <td>0</td>\n",
       "      <td>1</td>\n",
       "      <td>1</td>\n",
       "      <td>0</td>\n",
       "      <td>653.7815</td>\n",
       "      <td>653.7815</td>\n",
       "      <td>0</td>\n",
       "      <td>2.0</td>\n",
       "      <td>2.000</td>\n",
       "      <td>16.0</td>\n",
       "      <td>30</td>\n",
       "      <td>90.0</td>\n",
       "      <td>2016_10</td>\n",
       "    </tr>\n",
       "    <tr>\n",
       "      <th>9</th>\n",
       "      <td>149938627</td>\n",
       "      <td>2611</td>\n",
       "      <td>0</td>\n",
       "      <td>0</td>\n",
       "      <td>1</td>\n",
       "      <td>0</td>\n",
       "      <td>0.0000</td>\n",
       "      <td>10888.2352</td>\n",
       "      <td>0</td>\n",
       "      <td>0.0</td>\n",
       "      <td>2.360</td>\n",
       "      <td>82.0</td>\n",
       "      <td>30</td>\n",
       "      <td>90.0</td>\n",
       "      <td>2016_10</td>\n",
       "    </tr>\n",
       "  </tbody>\n",
       "</table>\n",
       "</div>"
      ],
      "text/plain": [
       "    party_id   corr  cv_us  cv_u4s  cv_u12s  m_us      m_u4s      m_u12s  \\\n",
       "0  149800088   2770      0       0        1     0     0.0000   1092.4369   \n",
       "1  149148141   5104      0       0        1     0     0.0000   1530.7869   \n",
       "2  149998428  29393      0       0        1     0     0.0000    836.9748   \n",
       "3  149356648  37764      0       1        1     0  7554.6218   7554.6218   \n",
       "4  150189980  20151      0       1        1     0  2057.9832   2057.9832   \n",
       "5  149557306   1213      0       0        1     0     0.0000   1444.5378   \n",
       "6  150388014   3506      0       0        1     0     0.0000   1326.8908   \n",
       "7  149742519   1765      0       0        2     0     0.0000   3225.2100   \n",
       "8  150579833   1268      0       1        1     0   653.7815    653.7815   \n",
       "9  149938627   2611      0       0        1     0     0.0000  10888.2352   \n",
       "\n",
       "   cp_us  cp_u4s  cp_u12s   rec  tu4s  tu12s    n_key  \n",
       "0      0     0.0    0.935  78.0    30   90.0  2016_10  \n",
       "1      0     0.0    1.000  84.0    30   90.0  2016_10  \n",
       "2      0     0.0    1.000  36.0    30   90.0  2016_10  \n",
       "3      0     1.0    1.000  15.0    30   90.0  2016_10  \n",
       "4      0     2.0    2.000  28.0    30   90.0  2016_10  \n",
       "5      0     0.0    1.000  83.0    30   90.0  2016_10  \n",
       "6      0     0.0    1.000  63.0    30   90.0  2016_10  \n",
       "7      0     0.0    2.000  40.0    30   18.0  2016_10  \n",
       "8      0     2.0    2.000  16.0    30   90.0  2016_10  \n",
       "9      0     0.0    2.360  82.0    30   90.0  2016_10  "
      ]
     },
     "execution_count": 3,
     "metadata": {},
     "output_type": "execute_result"
    }
   ],
   "source": [
    "df = ath.get_dataframe(path_query=path_dataframe)\n",
    "df.toPandas()"
   ]
  },
  {
   "cell_type": "markdown",
   "metadata": {},
   "source": [
    "Dinámica producto nuevo\n",
    "==\n",
    "\n",
    "Podemos obtener el dataframe de dinámica de producto nuevo"
   ]
  },
  {
   "cell_type": "code",
   "execution_count": 4,
   "metadata": {},
   "outputs": [
    {
     "name": "stdout",
     "output_type": "stream",
     "text": [
      "Execution ID: ef926a75-253c-46e7-a1bc-7e4483184f9d\n"
     ]
    }
   ],
   "source": [
    "from athena2pyspark.athena_sql.dinamicas import producto_nuevo \n",
    "# “El código nunca miente, los comentarios sí” -- Ron Jeffries\n",
    "\n",
    "producto_nuevo_query = producto_nuevo(subclase=110209, marca='2717', lift=8)\n",
    "\n",
    "s3_output = \"s3://leonardo.exalitica.com/boto3/query_examples_dinamica_producto_nuevo/\"\n",
    "\n",
    "path_producto_nuevo = ath.run_query(query = producto_nuevo_query, database = \"prod_jumbo\", s3_output = s3_output)"
   ]
  },
  {
   "cell_type": "code",
   "execution_count": 6,
   "metadata": {},
   "outputs": [
    {
     "name": "stdout",
     "output_type": "stream",
     "text": [
      "+---------+--------+---------------+-------------+------------+----------------+-------+--------------------+-----------+-----+\n",
      "| party_id|promo_id|comm_channel_cd|codigo_siebel|codigo_motor|communication_id|page_id|   datos_de_contacto|correlativo|grupo|\n",
      "+---------+--------+---------------+-------------+------------+----------------+-------+--------------------+-----------+-----+\n",
      "|101161414|     300|              1|      PopCorn|         300|               1|      1|aromanis@hotmail.com|      61009|    0|\n",
      "|151865307|     300|              1|      PopCorn|         300|               1|      1| SCILIA1@HOTMAIL.COM|      61009|    0|\n",
      "|172137866|     300|              1|      PopCorn|         300|               1|      1|PATRICIOLUENGOAMA...|      61009|    0|\n",
      "|176442667|     300|              1|      PopCorn|         300|               1|      1|marceladuransepul...|      61009|    0|\n",
      "|142674706|     300|              1|      PopCorn|         300|               1|      1|PATRICIA_N_@HOTMA...|      61009|    1|\n",
      "|176602078|     300|              1|      PopCorn|         300|               1|      1|DANIELA.REBOLLEDO...|      61009|    0|\n",
      "|114477212|     300|              1|      PopCorn|         300|               1|      1|BERENGUER.CRISTIA...|      61009|    0|\n",
      "|159101174|     300|              1|      PopCorn|         300|               1|      1|RM.RIQUELME@GMAIL...|      61009|    0|\n",
      "|148835317|     300|              1|      PopCorn|         300|               1|      1|  XIMEGP@HOTMAIL.COM|      61009|    1|\n",
      "|123673828|     300|              1|      PopCorn|         300|               1|      1|   BORINPA@GMAIL.COM|      61009|    0|\n",
      "+---------+--------+---------------+-------------+------------+----------------+-------+--------------------+-----------+-----+\n",
      "\n"
     ]
    }
   ],
   "source": [
    "df_producto_nuevo = ath.get_dataframe(path_query=path_producto_nuevo)\n",
    "df_producto_nuevo.limit(10).show()"
   ]
  },
  {
   "cell_type": "markdown",
   "metadata": {},
   "source": [
    "Generar el \"create table\" a partir del dataframe ya creado\n",
    "==\n",
    "\n",
    "Es util registrar este dataframe dentro de un catálogo para poder seguir haciendo consultas dentro de athena"
   ]
  },
  {
   "cell_type": "code",
   "execution_count": 7,
   "metadata": {},
   "outputs": [],
   "source": [
    "s3_input = path_producto_nuevo\n",
    "create_database, create_table = ath.get_ddl(df=df_producto_nuevo,\n",
    "                                            database=\"ljofre\",\n",
    "                                            table=\"nueva_tabla_de_ejemplo\",\n",
    "                                            s3_input=s3_output)"
   ]
  },
  {
   "cell_type": "code",
   "execution_count": 8,
   "metadata": {},
   "outputs": [
    {
     "name": "stdout",
     "output_type": "stream",
     "text": [
      "CREATE DATABASE IF NOT EXISTS ljofre;\n"
     ]
    }
   ],
   "source": [
    "print(create_database)"
   ]
  },
  {
   "cell_type": "code",
   "execution_count": 9,
   "metadata": {},
   "outputs": [
    {
     "name": "stdout",
     "output_type": "stream",
     "text": [
      "CREATE EXTERNAL TABLE IF NOT EXISTS ljofre.nueva_tabla_de_ejemplo ('party_id' string,'promo_id' string,'comm_channel_cd' string,'codigo_siebel' string,'codigo_motor' string,'communication_id' string,'page_id' string,'datos_de_contacto' string,'correlativo' string,'grupo' string)\n",
      "     ROW FORMAT SERDE 'org.apache.hadoop.hive.serde2.lazy.LazySimpleSerDe'\n",
      "     WITH SERDEPROPERTIES (\n",
      "     'serialization.format' = '1'\n",
      "     ) LOCATION 's3://leonardo.exalitica.com/boto3/query_examples_dinamica_producto_nuevo/'\n",
      "     TBLPROPERTIES ('has_encrypted_data'='false');\n"
     ]
    }
   ],
   "source": [
    "print(create_table)"
   ]
  },
  {
   "cell_type": "code",
   "execution_count": null,
   "metadata": {},
   "outputs": [],
   "source": [
    "CREATE EXTERNAL TABLE IF NOT EXISTS ljofre.prueba_tabla_python (\n",
    "  `party_id` string,\n",
    "  `promo_id` string,\n",
    "  `comm_channel_cd` string,\n",
    "  `codigo_siebel` string,\n",
    "  `codigo_motor` string,\n",
    "  `communication_id` string,\n",
    "  `page_id` string,\n",
    "  `datos_de_contacto` string,\n",
    "  `correlativo` string,\n",
    "  `grupo` string \n",
    ")\n",
    "ROW FORMAT SERDE 'org.apache.hadoop.hive.serde2.lazy.LazySimpleSerDe'\n",
    "WITH SERDEPROPERTIES (\n",
    "  'serialization.format' = ',',\n",
    "  'field.delim' = ','\n",
    ") LOCATION 's3://leonardo.exalitica.com/boto3/query_1/'\n",
    "TBLPROPERTIES ('has_encrypted_data'='false');"
   ]
  },
  {
   "cell_type": "markdown",
   "metadata": {},
   "source": [
    "Ejecutar create table y dejar registrada la tabla en Athena\n",
    "==\n",
    "\n",
    "“Cuando trabajo en un problema nunca pienso sobre la elegancia, sólo sobre cómo resolverlo. Pero cuando he acabado, si la solución no es elegante, sé que es incorrecta” \n",
    "-- R. Buckminster Fuller"
   ]
  },
  {
   "cell_type": "code",
   "execution_count": 14,
   "metadata": {},
   "outputs": [
    {
     "ename": "InvalidRequestException",
     "evalue": "An error occurred (InvalidRequestException) when calling the StartQueryExecution operation: line 1:8: no viable alternative at input 'CREATE EXTERNAL'",
     "output_type": "error",
     "traceback": [
      "\u001b[0;31m---------------------------------------------------------------------------\u001b[0m",
      "\u001b[0;31mInvalidRequestException\u001b[0m                   Traceback (most recent call last)",
      "\u001b[0;32m<ipython-input-14-17644f4bcd5e>\u001b[0m in \u001b[0;36m<module>\u001b[0;34m()\u001b[0m\n\u001b[1;32m     10\u001b[0m         \u001b[0;34m'Database'\u001b[0m\u001b[0;34m:\u001b[0m \u001b[0;34m\"ljofre\"\u001b[0m\u001b[0;34m\u001b[0m\u001b[0m\n\u001b[1;32m     11\u001b[0m         \u001b[0;34m}\u001b[0m\u001b[0;34m,\u001b[0m\u001b[0mResultConfiguration\u001b[0m\u001b[0;34m=\u001b[0m\u001b[0;34m{\u001b[0m\u001b[0;34m\u001b[0m\u001b[0m\n\u001b[0;32m---> 12\u001b[0;31m             \u001b[0;34m'OutputLocation'\u001b[0m\u001b[0;34m:\u001b[0m \u001b[0ms3_output\u001b[0m\u001b[0;34m,\u001b[0m\u001b[0;34m\u001b[0m\u001b[0m\n\u001b[0m\u001b[1;32m     13\u001b[0m             }\n\u001b[1;32m     14\u001b[0m     )\n",
      "\u001b[0;32m/usr/local/miniconda3/lib/python3.6/site-packages/botocore/client.py\u001b[0m in \u001b[0;36m_api_call\u001b[0;34m(self, *args, **kwargs)\u001b[0m\n\u001b[1;32m    310\u001b[0m                     \"%s() only accepts keyword arguments.\" % py_operation_name)\n\u001b[1;32m    311\u001b[0m             \u001b[0;31m# The \"self\" in this scope is referring to the BaseClient.\u001b[0m\u001b[0;34m\u001b[0m\u001b[0;34m\u001b[0m\u001b[0m\n\u001b[0;32m--> 312\u001b[0;31m             \u001b[0;32mreturn\u001b[0m \u001b[0mself\u001b[0m\u001b[0;34m.\u001b[0m\u001b[0m_make_api_call\u001b[0m\u001b[0;34m(\u001b[0m\u001b[0moperation_name\u001b[0m\u001b[0;34m,\u001b[0m \u001b[0mkwargs\u001b[0m\u001b[0;34m)\u001b[0m\u001b[0;34m\u001b[0m\u001b[0m\n\u001b[0m\u001b[1;32m    313\u001b[0m \u001b[0;34m\u001b[0m\u001b[0m\n\u001b[1;32m    314\u001b[0m         \u001b[0m_api_call\u001b[0m\u001b[0;34m.\u001b[0m\u001b[0m__name__\u001b[0m \u001b[0;34m=\u001b[0m \u001b[0mstr\u001b[0m\u001b[0;34m(\u001b[0m\u001b[0mpy_operation_name\u001b[0m\u001b[0;34m)\u001b[0m\u001b[0;34m\u001b[0m\u001b[0m\n",
      "\u001b[0;32m/usr/local/miniconda3/lib/python3.6/site-packages/botocore/client.py\u001b[0m in \u001b[0;36m_make_api_call\u001b[0;34m(self, operation_name, api_params)\u001b[0m\n\u001b[1;32m    599\u001b[0m             \u001b[0merror_code\u001b[0m \u001b[0;34m=\u001b[0m \u001b[0mparsed_response\u001b[0m\u001b[0;34m.\u001b[0m\u001b[0mget\u001b[0m\u001b[0;34m(\u001b[0m\u001b[0;34m\"Error\"\u001b[0m\u001b[0;34m,\u001b[0m \u001b[0;34m{\u001b[0m\u001b[0;34m}\u001b[0m\u001b[0;34m)\u001b[0m\u001b[0;34m.\u001b[0m\u001b[0mget\u001b[0m\u001b[0;34m(\u001b[0m\u001b[0;34m\"Code\"\u001b[0m\u001b[0;34m)\u001b[0m\u001b[0;34m\u001b[0m\u001b[0m\n\u001b[1;32m    600\u001b[0m             \u001b[0merror_class\u001b[0m \u001b[0;34m=\u001b[0m \u001b[0mself\u001b[0m\u001b[0;34m.\u001b[0m\u001b[0mexceptions\u001b[0m\u001b[0;34m.\u001b[0m\u001b[0mfrom_code\u001b[0m\u001b[0;34m(\u001b[0m\u001b[0merror_code\u001b[0m\u001b[0;34m)\u001b[0m\u001b[0;34m\u001b[0m\u001b[0m\n\u001b[0;32m--> 601\u001b[0;31m             \u001b[0;32mraise\u001b[0m \u001b[0merror_class\u001b[0m\u001b[0;34m(\u001b[0m\u001b[0mparsed_response\u001b[0m\u001b[0;34m,\u001b[0m \u001b[0moperation_name\u001b[0m\u001b[0;34m)\u001b[0m\u001b[0;34m\u001b[0m\u001b[0m\n\u001b[0m\u001b[1;32m    602\u001b[0m         \u001b[0;32melse\u001b[0m\u001b[0;34m:\u001b[0m\u001b[0;34m\u001b[0m\u001b[0m\n\u001b[1;32m    603\u001b[0m             \u001b[0;32mreturn\u001b[0m \u001b[0mparsed_response\u001b[0m\u001b[0;34m\u001b[0m\u001b[0m\n",
      "\u001b[0;31mInvalidRequestException\u001b[0m: An error occurred (InvalidRequestException) when calling the StartQueryExecution operation: line 1:8: no viable alternative at input 'CREATE EXTERNAL'"
     ]
    }
   ],
   "source": [
    "from athena2pyspark.config import aws_access_key_id, aws_secret_access_key\n",
    "import boto3\n",
    "client = boto3.client('athena', region_name='us-east-1', \n",
    "                      aws_access_key_id=aws_access_key_id,\n",
    "                      aws_secret_access_key=aws_secret_access_key)\n",
    "\n",
    "response = client.start_query_execution(\n",
    "    QueryString=create_table,\n",
    "    QueryExecutionContext={\n",
    "        'Database': \"ljofre\"\n",
    "        },\n",
    "    ResultConfiguration={\n",
    "            'OutputLocation': s3_output,\n",
    "            }\n",
    "    )\n",
    "print('Execution ID: ' + response['QueryExecutionId'])"
   ]
  },
  {
   "cell_type": "markdown",
   "metadata": {},
   "source": [
    "Hacer un listado a partir de la prepriorizacion\n",
    "=="
   ]
  },
  {
   "cell_type": "code",
   "execution_count": null,
   "metadata": {},
   "outputs": [],
   "source": []
  }
 ],
 "metadata": {
  "kernelspec": {
   "display_name": "Python 3",
   "language": "python",
   "name": "python3"
  },
  "language_info": {
   "codemirror_mode": {
    "name": "ipython",
    "version": 3
   },
   "file_extension": ".py",
   "mimetype": "text/x-python",
   "name": "python",
   "nbconvert_exporter": "python",
   "pygments_lexer": "ipython3",
   "version": "3.6.3"
  }
 },
 "nbformat": 4,
 "nbformat_minor": 2
}
